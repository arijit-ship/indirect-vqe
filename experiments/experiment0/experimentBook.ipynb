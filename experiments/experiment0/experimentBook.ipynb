{
 "cells": [
  {
   "cell_type": "markdown",
   "metadata": {},
   "source": [
    "### Imports"
   ]
  },
  {
   "cell_type": "code",
   "execution_count": 4,
   "metadata": {},
   "outputs": [],
   "source": [
    "import os\n",
    "import json\n",
    "import numpy as np"
   ]
  },
  {
   "cell_type": "markdown",
   "metadata": {},
   "source": [
    "### Parse the ZNE data\n",
    "\n",
    "The raw experimental are available at `experimental data/data`. The following code parses the ZNE data:"
   ]
  },
  {
   "cell_type": "code",
   "execution_count": 15,
   "metadata": {},
   "outputs": [],
   "source": [
    "# Folder containing your JSON files\n",
    "folder_path = \"experimental data/data\"\n",
    "\n",
    "# List to store the data from the filtered JSON files\n",
    "all_data = []\n",
    "\n",
    "# Loop through all files in the folder\n",
    "for filename in os.listdir(folder_path):\n",
    "    if filename.endswith(\".json\") and \"ZNE\" in filename:  # Check if the file is a JSON file and contains \"ZNE\"\n",
    "        file_path = os.path.join(folder_path, filename)\n",
    "        with open(file_path, \"r\") as file:\n",
    "            data = json.load(file)  # Parse the JSON file\n",
    "            all_data.append(data)  # Add the parsed data to the list"
   ]
  },
  {
   "cell_type": "markdown",
   "metadata": {},
   "source": [
    "### Parsing other useful data\n",
    "\n",
    "To extract other useful data such as exact minimum eigen values, estimated minimum eigen values etc, the VQE data needs to be parsed."
   ]
  },
  {
   "cell_type": "code",
   "execution_count": null,
   "metadata": {},
   "outputs": [],
   "source": [
    "# List to store the data from the filtered JSON files\n",
    "vqe_data = []\n",
    "\n",
    "# Loop through all files in the folder\n",
    "for filename in os.listdir(folder_path):\n",
    "    if filename.endswith(\".json\") and \"VQE\" in filename:  # Check if the file is a JSON file and contains \"ZNE\"\n",
    "        file_path = os.path.join(folder_path, filename)\n",
    "        with open(file_path, \"r\") as file:\n",
    "            data = json.load(file)  # Parse the JSON file\n",
    "            vqe_data.append(data)  # Add the parsed data to the list"
   ]
  },
  {
   "cell_type": "markdown",
   "metadata": {},
   "source": [
    "### Mean and standard deviation of estimated minimum energy eigen values"
   ]
  },
  {
   "cell_type": "code",
   "execution_count": 21,
   "metadata": {},
   "outputs": [
    {
     "name": "stdout",
     "output_type": "stream",
     "text": [
      "Mean: -8.31556574652772\n"
     ]
    }
   ],
   "source": [
    "eigen_vals = vqe_data[0][\"Optimized_minimum_cost\"]\n",
    "eigen_vals_mean = np.mean(eigen_vals)\n",
    "print(f\"Mean: {eigen_vals_mean}\")"
   ]
  },
  {
   "cell_type": "code",
   "execution_count": 20,
   "metadata": {},
   "outputs": [
    {
     "name": "stdout",
     "output_type": "stream",
     "text": [
      "Standard deviation: 0.131728374668213\n"
     ]
    }
   ],
   "source": [
    "# Standard deviation in eigenvalues\n",
    "eigen_vals_sd = np.std(eigen_vals)\n",
    "print(f\"Standard deviation: {eigen_vals_sd}\")"
   ]
  },
  {
   "cell_type": "markdown",
   "metadata": {},
   "source": [
    "### Mean and standard deviation of ZNE values"
   ]
  },
  {
   "cell_type": "code",
   "execution_count": 24,
   "metadata": {},
   "outputs": [
    {
     "name": "stdout",
     "output_type": "stream",
     "text": [
      "Mean ZNE: -8.371059728319427\n"
     ]
    }
   ],
   "source": [
    "zne_vals = []\n",
    "for data in all_data:\n",
    "    zne_val = data[\"ZNE_values\"][\"Value\"]\n",
    "    zne_vals.append(zne_val)\n",
    "\n",
    "zne_mean = np.mean(zne_vals)\n",
    "print(f\"Mean ZNE: {zne_mean}\")\n"
   ]
  },
  {
   "cell_type": "code",
   "execution_count": 25,
   "metadata": {},
   "outputs": [
    {
     "name": "stdout",
     "output_type": "stream",
     "text": [
      "ZNE standard deviation: 0.12800737993647104\n"
     ]
    }
   ],
   "source": [
    "zne_sd = np.std(zne_vals)\n",
    "print(f\"ZNE standard deviation: {zne_sd}\")"
   ]
  },
  {
   "cell_type": "code",
   "execution_count": null,
   "metadata": {},
   "outputs": [],
   "source": []
  }
 ],
 "metadata": {
  "kernelspec": {
   "display_name": ".env",
   "language": "python",
   "name": "python3"
  },
  "language_info": {
   "codemirror_mode": {
    "name": "ipython",
    "version": 3
   },
   "file_extension": ".py",
   "mimetype": "text/x-python",
   "name": "python",
   "nbconvert_exporter": "python",
   "pygments_lexer": "ipython3",
   "version": "3.11.0"
  }
 },
 "nbformat": 4,
 "nbformat_minor": 2
}
