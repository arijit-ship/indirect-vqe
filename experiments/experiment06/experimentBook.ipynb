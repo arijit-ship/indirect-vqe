{
 "cells": [
  {
   "cell_type": "markdown",
   "metadata": {},
   "source": [
    "# Experiment 6: Indirect-contrl ZNE with ideal noise-free time-evolution gate\n",
    "---"
   ]
  },
  {
   "cell_type": "markdown",
   "metadata": {},
   "source": [
    "This experiment is:\n",
    "\n",
    "- Qubit: 7, layer: 30\n",
    "- System has noise-free time evolution.\n",
    "- Target observable: Transverse filed Ising Hamiltonian.\n",
    "- Ansatz time-evolution: Heisenberg-Hamiltonian."
   ]
  },
  {
   "cell_type": "markdown",
   "metadata": {},
   "source": [
    "### Imports"
   ]
  },
  {
   "cell_type": "code",
   "execution_count": 1,
   "metadata": {},
   "outputs": [],
   "source": [
    "import os\n",
    "import json\n",
    "import numpy as np\n",
    "import matplotlib.pyplot as plt"
   ]
  },
  {
   "cell_type": "markdown",
   "metadata": {},
   "source": [
    "### Matplotlib set-sup"
   ]
  },
  {
   "cell_type": "code",
   "execution_count": 2,
   "metadata": {},
   "outputs": [],
   "source": [
    "# Set the default font to be LaTeX compliant.\n",
    "plt.rcParams[\"font.family\"] = \"serif\"\n",
    "plt.rcParams[\"font.serif\"] = \"Computer Modern Roman\"\n",
    "plt.rcParams[\"text.usetex\"] = True\n",
    "\n",
    "# Set a global font size.\n",
    "font_size = 11\n",
    "plt.rcParams[\"font.size\"] = font_size\n",
    "plt.rcParams[\"axes.labelsize\"] = font_size\n",
    "plt.rcParams[\"xtick.labelsize\"] = font_size\n",
    "plt.rcParams[\"ytick.labelsize\"] = font_size\n",
    "plt.rcParams[\"legend.fontsize\"] = 11"
   ]
  },
  {
   "cell_type": "markdown",
   "metadata": {},
   "source": [
    "### Parsing the ZNE data\n",
    "\n",
    "The raw experimental are available at `experimental data/data`. The following code parses the ZNE data:"
   ]
  },
  {
   "cell_type": "code",
   "execution_count": 3,
   "metadata": {},
   "outputs": [],
   "source": [
    "# Folder containing your JSON files\n",
    "folder_path = \"experimental data/data\"\n",
    "\n",
    "# List to store the data from the filtered JSON files\n",
    "all_data = []\n",
    "\n",
    "# Loop through all files in the folder\n",
    "for filename in os.listdir(folder_path):\n",
    "    if filename.endswith(\".json\") and \"ZNE\" in filename:  # Check if the file is a JSON file and contains \"ZNE\"\n",
    "        file_path = os.path.join(folder_path, filename)\n",
    "        with open(file_path, \"r\") as file:\n",
    "            data = json.load(file)  # Parse the JSON file\n",
    "            all_data.append(data)  # Add the parsed data to the list"
   ]
  },
  {
   "cell_type": "markdown",
   "metadata": {},
   "source": [
    "### Parsing other useful data\n",
    "\n",
    "To extract other useful data such as exact minimum eigen values, estimated minimum eigen values etc, the VQE data needs to be parsed."
   ]
  },
  {
   "cell_type": "code",
   "execution_count": 4,
   "metadata": {},
   "outputs": [],
   "source": [
    "# List to store the data from the filtered JSON files\n",
    "vqe_data = []\n",
    "noiseless_data = []\n",
    "\n",
    "# Loop through all files in the folder\n",
    "for filename in os.listdir(folder_path):\n",
    "    if filename.endswith(\".json\") and \"VQE\" in filename:  # Check if the file is a JSON file and contains \"ZNE\"\n",
    "        file_path = os.path.join(folder_path, filename)\n",
    "        with open(file_path, \"r\") as file:\n",
    "            data = json.load(file)  # Parse the JSON file\n",
    "            vqe_data.append(data)  # Add the parsed data to the list\n",
    "    elif filename.endswith(\".json\") and \"noisefree_vqe\" in filename:\n",
    "        file_path = os.path.join(folder_path, filename)\n",
    "        with open(file_path, \"r\") as file:\n",
    "            data = json.load(file)  # Parse the JSON file\n",
    "            noiseless_data.append(data)  # Add the parsed data to the list"
   ]
  },
  {
   "cell_type": "markdown",
   "metadata": {},
   "source": [
    "### Exact minimum eigen value"
   ]
  },
  {
   "cell_type": "code",
   "execution_count": 5,
   "metadata": {},
   "outputs": [
    {
     "name": "stdout",
     "output_type": "stream",
     "text": [
      "Exact sol: -8.56677223350563\n"
     ]
    }
   ],
   "source": [
    "exact_sol = vqe_data[0][\"output\"][\"exact_sol\"]\n",
    "print(f\"Exact sol: {exact_sol}\")"
   ]
  },
  {
   "cell_type": "markdown",
   "metadata": {},
   "source": [
    "### Mean and standard deviation of estimated minimum energy eigen values (noisy ansatz)"
   ]
  },
  {
   "cell_type": "code",
   "execution_count": 6,
   "metadata": {},
   "outputs": [
    {
     "name": "stdout",
     "output_type": "stream",
     "text": [
      "Noisy mean estimation: -5.309993052858839\n"
     ]
    }
   ],
   "source": [
    "eigen_vals = vqe_data[0][\"output\"][\"optimized_minimum_cost\"]\n",
    "eigen_vals_mean = np.mean(eigen_vals)\n",
    "print(f\"Noisy mean estimation: {eigen_vals_mean}\")"
   ]
  },
  {
   "cell_type": "code",
   "execution_count": 7,
   "metadata": {},
   "outputs": [
    {
     "name": "stdout",
     "output_type": "stream",
     "text": [
      "Noisy standard deviation: 0.089912838888468\n"
     ]
    }
   ],
   "source": [
    "# Standard deviation in eigenvalues\n",
    "eigen_vals_sd = np.std(eigen_vals)\n",
    "print(f\"Noisy standard deviation: {eigen_vals_sd}\")"
   ]
  },
  {
   "cell_type": "markdown",
   "metadata": {},
   "source": [
    "### Mean and standard deviation of estimated minimum energy eigen values (noise-free ansatz)"
   ]
  },
  {
   "cell_type": "code",
   "execution_count": 8,
   "metadata": {},
   "outputs": [
    {
     "name": "stdout",
     "output_type": "stream",
     "text": [
      "Noise-free mean estimation: -8.450217972952293\n"
     ]
    }
   ],
   "source": [
    "noisefree_estimation = noiseless_data[0][\"Optimized_minimum_cost\"]\n",
    "noisefree_mean = np.mean(noisefree_estimation)\n",
    "print(f\"Noise-free mean estimation: {noisefree_mean}\")"
   ]
  },
  {
   "cell_type": "code",
   "execution_count": 9,
   "metadata": {},
   "outputs": [
    {
     "name": "stdout",
     "output_type": "stream",
     "text": [
      "Noise-free standard deviation: 0.06830077032241505\n"
     ]
    }
   ],
   "source": [
    "noisefree_sd = np.std(noisefree_estimation)\n",
    "print(f\"Noise-free standard deviation: {noisefree_sd}\")"
   ]
  },
  {
   "cell_type": "code",
   "execution_count": 10,
   "metadata": {},
   "outputs": [],
   "source": [
    "noise_level = vqe_data[0][\"config\"][\"vqe\"][\"ansatz\"][\"noise\"][\"value\"]"
   ]
  },
  {
   "cell_type": "markdown",
   "metadata": {},
   "source": [
    "### Mean and standard deviation of ZNE values"
   ]
  },
  {
   "cell_type": "code",
   "execution_count": 11,
   "metadata": {},
   "outputs": [
    {
     "name": "stdout",
     "output_type": "stream",
     "text": [
      "ZNE mean: -6.8842147276495\n"
     ]
    }
   ],
   "source": [
    "zne_vals = []\n",
    "for data in all_data:\n",
    "    zne_val = data[\"output\"][\"zne_values\"][\"extrapolated_value\"]\n",
    "    zne_vals.append(zne_val)\n",
    "\n",
    "zne_mean = np.mean(zne_vals)\n",
    "print(f\"ZNE mean: {zne_mean}\")\n"
   ]
  },
  {
   "cell_type": "code",
   "execution_count": 12,
   "metadata": {},
   "outputs": [
    {
     "name": "stdout",
     "output_type": "stream",
     "text": [
      "ZNE standard deviation: 0.09344990918566992\n"
     ]
    }
   ],
   "source": [
    "zne_sd = np.std(zne_vals)\n",
    "print(f\"ZNE standard deviation: {zne_sd}\")"
   ]
  },
  {
   "cell_type": "markdown",
   "metadata": {},
   "source": [
    "### Plotting result"
   ]
  },
  {
   "cell_type": "code",
   "execution_count": 13,
   "metadata": {},
   "outputs": [
    {
     "data": {
      "image/png": "[encoded data removed]",
      "text/plain": [
       "<Figure size 600x600 with 1 Axes>"
      ]
     },
     "metadata": {},
     "output_type": "display_data"
    }
   ],
   "source": [
    "# Data labels\n",
    "labels = [\"Noisy-ansatz\", \"ZNE\", \"Noise-free\"]\n",
    "\n",
    "# Values to plot\n",
    "means = [eigen_vals_mean, zne_mean, noisefree_mean]\n",
    "sds = [eigen_vals_sd, zne_sd, noisefree_sd]\n",
    "\n",
    "# Create the plot with error bars\n",
    "plt.figure(figsize=(6, 6))\n",
    "\n",
    "# Plot eigenvalues with error bars\n",
    "plt.errorbar(labels[0], means[0], yerr=sds[0], fmt=\"o\", color=\"blue\", capsize=5, label=\"Eigen Values Mean (with noise) ± SD\")\n",
    "\n",
    "# Plot ZNE values with error bars\n",
    "plt.errorbar(labels[1], means[1], yerr=sds[1], fmt=\"o\", color=\"red\", capsize=5, label=\"ZNE Mean ± SD\")\n",
    "\n",
    "# Plot ZNE values with error bars\n",
    "plt.errorbar(labels[2], means[2], yerr=sds[2], fmt=\"o\", color=\"green\", capsize=5, label=\"Noise-free estimation\")\n",
    "\n",
    "# Plot the horizontal line for the exact solution\n",
    "plt.axhline(y=exact_sol, color=\"green\", linestyle=\"--\", label=f\"Exact Solution = {exact_sol}\")\n",
    "\n",
    "# Adding title and labels\n",
    "plt.title(f\"Result: Heisenberg-Ansatz with Noise {noise_level}\")\n",
    "plt.ylabel(\"Values\")\n",
    "plt.grid(True)\n",
    "# Add a legend\n",
    "plt.legend()\n",
    "plt.show()"
   ]
  }
 ],
 "metadata": {
  "kernelspec": {
   "display_name": ".env",
   "language": "python",
   "name": "python3"
  },
  "language_info": {
   "codemirror_mode": {
    "name": "ipython",
    "version": 3
   },
   "file_extension": ".py",
   "mimetype": "text/x-python",
   "name": "python",
   "nbconvert_exporter": "python",
   "pygments_lexer": "ipython3",
   "version": "3.11.0"
  }
 },
 "nbformat": 4,
 "nbformat_minor": 2
}
